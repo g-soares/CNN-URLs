{
  "nbformat": 4,
  "nbformat_minor": 0,
  "metadata": {
    "colab": {
      "name": "urlProjeto.ipynb",
      "version": "0.3.2",
      "provenance": [],
      "collapsed_sections": []
    },
    "kernelspec": {
      "name": "python3",
      "display_name": "Python 3"
    },
    "accelerator": "GPU"
  },
  "cells": [
    {
      "cell_type": "code",
      "metadata": {
        "id": "hzs0VEIfgpdu",
        "colab_type": "code",
        "outputId": "c6d148c6-56e9-4cdf-8f49-1d0426ef3eeb",
        "colab": {
          "base_uri": "https://localhost:8080/",
          "height": 51
        }
      },
      "source": [
        "import numpy as np\n",
        "import pandas as pd\n",
        "import matplotlib.pyplot as plt\n",
        "import matplotlib as mpl\n",
        "import keras.layers\n",
        "\n",
        "from IPython.display import display\n",
        "from IPython.display import Markdown\n",
        "\n",
        "from sklearn.model_selection import train_test_split\n",
        "from sklearn.metrics import classification_report, confusion_matrix,f1_score\n",
        "from sklearn.manifold import TSNE\n",
        "from sklearn.decomposition import PCA\n",
        "\n",
        "from keras.preprocessing.text import Tokenizer\n",
        "from keras.preprocessing.sequence import pad_sequences\n",
        "from keras.models import Model\n",
        "from keras.callbacks import EarlyStopping, ModelCheckpoint\n",
        "\n",
        "from keras import datasets\n",
        "from keras import layers\n",
        "from keras import optimizers\n",
        "from keras import models\n",
        "from keras.utils import np_utils\n",
        "\n",
        "#monta uma imagem do Google Drive para que o collaboratory possa acessar a base de dados \n",
        "#from google.colab import drive\n",
        "#drive.mount('/content/gdrive')\n",
        "\n",
        "# Tira os warning do TF\n",
        "import tensorflow as tf\n",
        "tf.logging.set_verbosity(tf.logging.ERROR)"
      ],
      "execution_count": 0,
      "outputs": [
        {
          "output_type": "stream",
          "text": [
            "Using TensorFlow backend.\n"
          ],
          "name": "stderr"
        },
        {
          "output_type": "stream",
          "text": [
            "Drive already mounted at /content/gdrive; to attempt to forcibly remount, call drive.mount(\"/content/gdrive\", force_remount=True).\n"
          ],
          "name": "stdout"
        }
      ]
    },
    {
      "cell_type": "code",
      "metadata": {
        "id": "6tdVDyUFh7Ny",
        "colab_type": "code",
        "colab": {}
      },
      "source": [
        "#INPUT_FILEPATH = \"/content/gdrive/My Drive/data.csv\"\n",
        "INPUT_FILEPATH = \"data.csv\"\n",
        "TARGET = \"label\"\n",
        "n_classes = 2\n",
        "labels = ['Ruim', 'Bom']"
      ],
      "execution_count": 0,
      "outputs": []
    },
    {
      "cell_type": "markdown",
      "metadata": {
        "id": "PasyewoqiXeq",
        "colab_type": "text"
      },
      "source": [
        "## Dados de Entrada"
      ]
    },
    {
      "cell_type": "markdown",
      "metadata": {
        "id": "a5pB94p8Mc_Z",
        "colab_type": "text"
      },
      "source": [
        "A base de dados consiste em um conjunto de URLs classificadas em boas e ruins. Ele está disponível em: https://www.kaggle.com/antonyj453/urldataset"
      ]
    },
    {
      "cell_type": "code",
      "metadata": {
        "id": "2tclLPn9iBWU",
        "colab_type": "code",
        "outputId": "a99d6bb2-39b4-4331-d380-57c6701dce86",
        "colab": {
          "base_uri": "https://localhost:8080/",
          "height": 805
        }
      },
      "source": [
        "df = pd.read_csv(INPUT_FILEPATH)\n",
        "\n",
        "print(\"Numero de linhas: {}\".format(df.shape[0]))\n",
        "print(\"Numero de colunas: {}\".format(df.shape[1]))\n",
        "print(\"Dados faltando: {}\".format(df.isnull().sum().sum()))\n",
        "\n",
        "print(\"\\nAmostra:\")\n",
        "with pd.option_context(\"max_columns\", 3):\n",
        "    display(df.head(20))\n",
        "\n",
        "# Cria uma lista com as features\n",
        "features = list(df.columns)\n",
        "features.remove(TARGET)\n",
        "\n",
        "print(\"Target: {}\".format(TARGET))\n",
        "print(\"Features:\")\n",
        "print(\"\\n\".join([\"  \" + x for x in features]))\n",
        "\n",
        "mpl.rc('font', size=14)"
      ],
      "execution_count": 0,
      "outputs": [
        {
          "output_type": "stream",
          "text": [
            "Numero de linhas: 420464\n",
            "Numero de colunas: 2\n",
            "Dados faltando: 0\n",
            "\n",
            "Amostra:\n"
          ],
          "name": "stdout"
        },
        {
          "output_type": "display_data",
          "data": {
            "text/html": [
              "<div>\n",
              "<style scoped>\n",
              "    .dataframe tbody tr th:only-of-type {\n",
              "        vertical-align: middle;\n",
              "    }\n",
              "\n",
              "    .dataframe tbody tr th {\n",
              "        vertical-align: top;\n",
              "    }\n",
              "\n",
              "    .dataframe thead th {\n",
              "        text-align: right;\n",
              "    }\n",
              "</style>\n",
              "<table border=\"1\" class=\"dataframe\">\n",
              "  <thead>\n",
              "    <tr style=\"text-align: right;\">\n",
              "      <th></th>\n",
              "      <th>url</th>\n",
              "      <th>label</th>\n",
              "    </tr>\n",
              "  </thead>\n",
              "  <tbody>\n",
              "    <tr>\n",
              "      <th>0</th>\n",
              "      <td>diaryofagameaddict.com</td>\n",
              "      <td>bad</td>\n",
              "    </tr>\n",
              "    <tr>\n",
              "      <th>1</th>\n",
              "      <td>espdesign.com.au</td>\n",
              "      <td>bad</td>\n",
              "    </tr>\n",
              "    <tr>\n",
              "      <th>2</th>\n",
              "      <td>iamagameaddict.com</td>\n",
              "      <td>bad</td>\n",
              "    </tr>\n",
              "    <tr>\n",
              "      <th>3</th>\n",
              "      <td>kalantzis.net</td>\n",
              "      <td>bad</td>\n",
              "    </tr>\n",
              "    <tr>\n",
              "      <th>4</th>\n",
              "      <td>slightlyoffcenter.net</td>\n",
              "      <td>bad</td>\n",
              "    </tr>\n",
              "    <tr>\n",
              "      <th>5</th>\n",
              "      <td>toddscarwash.com</td>\n",
              "      <td>bad</td>\n",
              "    </tr>\n",
              "    <tr>\n",
              "      <th>6</th>\n",
              "      <td>tubemoviez.com</td>\n",
              "      <td>bad</td>\n",
              "    </tr>\n",
              "    <tr>\n",
              "      <th>7</th>\n",
              "      <td>ipl.hk</td>\n",
              "      <td>bad</td>\n",
              "    </tr>\n",
              "    <tr>\n",
              "      <th>8</th>\n",
              "      <td>crackspider.us/toolbar/install.php?pack=exe</td>\n",
              "      <td>bad</td>\n",
              "    </tr>\n",
              "    <tr>\n",
              "      <th>9</th>\n",
              "      <td>pos-kupang.com/</td>\n",
              "      <td>bad</td>\n",
              "    </tr>\n",
              "    <tr>\n",
              "      <th>10</th>\n",
              "      <td>rupor.info</td>\n",
              "      <td>bad</td>\n",
              "    </tr>\n",
              "    <tr>\n",
              "      <th>11</th>\n",
              "      <td>svision-online.de/mgfi/administrator/component...</td>\n",
              "      <td>bad</td>\n",
              "    </tr>\n",
              "    <tr>\n",
              "      <th>12</th>\n",
              "      <td>officeon.ch.ma/office.js?google_ad_format=728x...</td>\n",
              "      <td>bad</td>\n",
              "    </tr>\n",
              "    <tr>\n",
              "      <th>13</th>\n",
              "      <td>sn-gzzx.com</td>\n",
              "      <td>bad</td>\n",
              "    </tr>\n",
              "    <tr>\n",
              "      <th>14</th>\n",
              "      <td>sunlux.net/company/about.html</td>\n",
              "      <td>bad</td>\n",
              "    </tr>\n",
              "    <tr>\n",
              "      <th>15</th>\n",
              "      <td>outporn.com</td>\n",
              "      <td>bad</td>\n",
              "    </tr>\n",
              "    <tr>\n",
              "      <th>16</th>\n",
              "      <td>timothycopus.aimoo.com</td>\n",
              "      <td>bad</td>\n",
              "    </tr>\n",
              "    <tr>\n",
              "      <th>17</th>\n",
              "      <td>xindalawyer.com</td>\n",
              "      <td>bad</td>\n",
              "    </tr>\n",
              "    <tr>\n",
              "      <th>18</th>\n",
              "      <td>freeserials.spb.ru/key/68703.htm</td>\n",
              "      <td>bad</td>\n",
              "    </tr>\n",
              "    <tr>\n",
              "      <th>19</th>\n",
              "      <td>deletespyware-adware.com</td>\n",
              "      <td>bad</td>\n",
              "    </tr>\n",
              "  </tbody>\n",
              "</table>\n",
              "</div>"
            ],
            "text/plain": [
              "                                                  url label\n",
              "0                              diaryofagameaddict.com   bad\n",
              "1                                    espdesign.com.au   bad\n",
              "2                                  iamagameaddict.com   bad\n",
              "3                                       kalantzis.net   bad\n",
              "4                               slightlyoffcenter.net   bad\n",
              "5                                    toddscarwash.com   bad\n",
              "6                                      tubemoviez.com   bad\n",
              "7                                              ipl.hk   bad\n",
              "8         crackspider.us/toolbar/install.php?pack=exe   bad\n",
              "9                                     pos-kupang.com/   bad\n",
              "10                                         rupor.info   bad\n",
              "11  svision-online.de/mgfi/administrator/component...   bad\n",
              "12  officeon.ch.ma/office.js?google_ad_format=728x...   bad\n",
              "13                                        sn-gzzx.com   bad\n",
              "14                      sunlux.net/company/about.html   bad\n",
              "15                                        outporn.com   bad\n",
              "16                             timothycopus.aimoo.com   bad\n",
              "17                                    xindalawyer.com   bad\n",
              "18                   freeserials.spb.ru/key/68703.htm   bad\n",
              "19                           deletespyware-adware.com   bad"
            ]
          },
          "metadata": {
            "tags": []
          }
        },
        {
          "output_type": "stream",
          "text": [
            "Target: label\n",
            "Features:\n",
            "  url\n"
          ],
          "name": "stdout"
        }
      ]
    },
    {
      "cell_type": "markdown",
      "metadata": {
        "id": "dontbzi2jfoj",
        "colab_type": "text"
      },
      "source": [
        "## Target"
      ]
    },
    {
      "cell_type": "code",
      "metadata": {
        "id": "e0m92p87jg4k",
        "colab_type": "code",
        "outputId": "6a5c1a49-bf8e-4513-813b-65b16dea7ea2",
        "colab": {
          "base_uri": "https://localhost:8080/",
          "height": 143
        }
      },
      "source": [
        "with pd.option_context(\"max_columns\", 25):\n",
        "    display((df[TARGET].value_counts()/len(df)*100).round(2).to_frame(TARGET +\" (%)\").T)\n",
        "\n",
        "#cria uma representação binária das classes onde 1 a classe alvo (URLs maliciosas)\n",
        "df[TARGET] = (df[TARGET] == \"bad\").astype(int)\n",
        "with pd.option_context(\"max_columns\", 25):\n",
        "    display((df[TARGET].value_counts()/len(df)*100).round(2).to_frame(TARGET +\" (%)\").T)"
      ],
      "execution_count": 0,
      "outputs": [
        {
          "output_type": "display_data",
          "data": {
            "text/html": [
              "<div>\n",
              "<style scoped>\n",
              "    .dataframe tbody tr th:only-of-type {\n",
              "        vertical-align: middle;\n",
              "    }\n",
              "\n",
              "    .dataframe tbody tr th {\n",
              "        vertical-align: top;\n",
              "    }\n",
              "\n",
              "    .dataframe thead th {\n",
              "        text-align: right;\n",
              "    }\n",
              "</style>\n",
              "<table border=\"1\" class=\"dataframe\">\n",
              "  <thead>\n",
              "    <tr style=\"text-align: right;\">\n",
              "      <th></th>\n",
              "      <th>good</th>\n",
              "      <th>bad</th>\n",
              "    </tr>\n",
              "  </thead>\n",
              "  <tbody>\n",
              "    <tr>\n",
              "      <th>label (%)</th>\n",
              "      <td>82.01</td>\n",
              "      <td>17.99</td>\n",
              "    </tr>\n",
              "  </tbody>\n",
              "</table>\n",
              "</div>"
            ],
            "text/plain": [
              "            good    bad\n",
              "label (%)  82.01  17.99"
            ]
          },
          "metadata": {
            "tags": []
          }
        },
        {
          "output_type": "display_data",
          "data": {
            "text/html": [
              "<div>\n",
              "<style scoped>\n",
              "    .dataframe tbody tr th:only-of-type {\n",
              "        vertical-align: middle;\n",
              "    }\n",
              "\n",
              "    .dataframe tbody tr th {\n",
              "        vertical-align: top;\n",
              "    }\n",
              "\n",
              "    .dataframe thead th {\n",
              "        text-align: right;\n",
              "    }\n",
              "</style>\n",
              "<table border=\"1\" class=\"dataframe\">\n",
              "  <thead>\n",
              "    <tr style=\"text-align: right;\">\n",
              "      <th></th>\n",
              "      <th>0</th>\n",
              "      <th>1</th>\n",
              "    </tr>\n",
              "  </thead>\n",
              "  <tbody>\n",
              "    <tr>\n",
              "      <th>label (%)</th>\n",
              "      <td>82.01</td>\n",
              "      <td>17.99</td>\n",
              "    </tr>\n",
              "  </tbody>\n",
              "</table>\n",
              "</div>"
            ],
            "text/plain": [
              "               0      1\n",
              "label (%)  82.01  17.99"
            ]
          },
          "metadata": {
            "tags": []
          }
        }
      ]
    },
    {
      "cell_type": "markdown",
      "metadata": {
        "id": "F8wOi4pQmOeg",
        "colab_type": "text"
      },
      "source": [
        "## Pré-processamento"
      ]
    },
    {
      "cell_type": "markdown",
      "metadata": {
        "id": "y1txUIwMmVat",
        "colab_type": "text"
      },
      "source": [
        "### Partições"
      ]
    },
    {
      "cell_type": "code",
      "metadata": {
        "id": "isbRn41zkRd7",
        "colab_type": "code",
        "colab": {}
      },
      "source": [
        "#Cria as partições de treino, validação e teste. \n",
        "#Desse modo, o modelo treinado só tera acesso à partição de teste no momento de gerar os resultados finais.\n",
        "x_train, x_test, y_train, y_test = train_test_split(df.url, df.label, test_size=0.2, random_state=0)\n",
        "x_train, x_val, y_train, y_val = train_test_split(x_train, y_train, test_size= 0.2, random_state=0)"
      ],
      "execution_count": 0,
      "outputs": []
    },
    {
      "cell_type": "markdown",
      "metadata": {
        "id": "bw22g8MDm0r7",
        "colab_type": "text"
      },
      "source": [
        "### Tokenização"
      ]
    },
    {
      "cell_type": "code",
      "metadata": {
        "id": "jvdBmy7CmZME",
        "colab_type": "code",
        "colab": {}
      },
      "source": [
        "#cria a representação das URLs em formato de tokens\n",
        "tokenizer = Tokenizer(char_level=True, lower=False)\n",
        "tokenizer.fit_on_texts(x_train)\n",
        "\n",
        "x_train_int = tokenizer.texts_to_sequences(x_train)\n",
        "x_val_int = tokenizer.texts_to_sequences(x_val)\n",
        "x_test_int = tokenizer.texts_to_sequences(x_test)"
      ],
      "execution_count": 0,
      "outputs": []
    },
    {
      "cell_type": "markdown",
      "metadata": {
        "id": "x6ZG4ncQsWuS",
        "colab_type": "text"
      },
      "source": [
        "### Padding"
      ]
    },
    {
      "cell_type": "code",
      "metadata": {
        "id": "__vFmZC6sYmG",
        "colab_type": "code",
        "colab": {}
      },
      "source": [
        "#normaliza o tamanho da entrada\n",
        "max_length = max([len(i) for i in x_train_int])\n",
        "\n",
        "x_train_int = pad_sequences(x_train_int, padding='post', maxlen=max_length)\n",
        "x_val_int = pad_sequences(x_val_int, padding='post', maxlen=max_length)\n",
        "x_test_int = pad_sequences(x_test_int, padding='post', maxlen=max_length)"
      ],
      "execution_count": 0,
      "outputs": []
    },
    {
      "cell_type": "markdown",
      "metadata": {
        "id": "fMQjvjuw2ElW",
        "colab_type": "text"
      },
      "source": [
        "### Funções auxiliares"
      ]
    },
    {
      "cell_type": "code",
      "metadata": {
        "id": "RuyNrBcq2Gky",
        "colab_type": "code",
        "colab": {}
      },
      "source": [
        "def gerar_graficos_treino(history):\n",
        "    # Gera graficos do resultado do treino\n",
        "    mpl.rc(\"font\", **{\"size\": 14})\n",
        "    fig, axes = plt.subplots(1, 2, figsize=(17, 7))\n",
        "\n",
        "    # Loss\n",
        "    axes[0].plot(range(1, len(history.history[\"loss\"])+1), history.history[\"loss\"], \n",
        "            label=\"Train Loss\", color=\"royalblue\", lw=3)\n",
        "    axes[0].plot(range(1, len(history.history[\"val_loss\"])+1), history.history[\"val_loss\"], \n",
        "            label=\"Val Loss\", color=\"forestgreen\", lw=3)\n",
        "    axes[0].set_ylabel(\"Loss\")\n",
        "    axes[0].set_xlabel(\"Epoch\")\n",
        "    axes[0].set_xticks(range(1, len(history.history[\"acc\"])+1, 2))\n",
        "    axes[0].legend()\n",
        "\n",
        "    # Accuracy\n",
        "    axes[1].plot(range(1, len(history.history[\"acc\"])+1), history.history[\"acc\"], \n",
        "            label=\"Train ACC\", color=\"royalblue\", lw=3)\n",
        "    axes[1].plot(range(1, len(history.history[\"val_acc\"])+1), history.history[\"val_acc\"], \n",
        "            label=\"Val ACC\", color=\"forestgreen\", lw=3)\n",
        "    axes[1].set_ylabel(\"Accuracy\")\n",
        "    axes[1].set_xlabel(\"Epoch\")\n",
        "    axes[1].set_xticks(range(1, len(history.history[\"acc\"])+1, 2))\n",
        "    axes[1].legend()\n",
        "    return plt\n",
        "\n",
        "def gerar_matriz_confusao(y_pred, y_true):\n",
        "    cm = confusion_matrix(y_true, y_pred)\n",
        "    classes = list(range(0, 11))\n",
        "    fig, ax = plt.subplots(figsize=(7, 7))\n",
        "    im = ax.imshow(cm, interpolation='nearest', cmap=plt.cm.Blues)\n",
        "    ax.figure.colorbar(im, ax=ax)\n",
        "    ax.set(xticks=np.arange(cm.shape[1]),\n",
        "           yticks=np.arange(cm.shape[0]),\n",
        "           xticklabels=classes, yticklabels=classes,\n",
        "           title=\"Matriz de Confusão\",\n",
        "           ylabel=\"Real\",\n",
        "           xlabel=\"Predito\")\n",
        "\n",
        "    plt.setp(ax.get_xticklabels(), rotation=45, ha=\"right\",\n",
        "             rotation_mode=\"anchor\")\n",
        "\n",
        "    for i in range(cm.shape[0]):\n",
        "        for j in range(cm.shape[1]):\n",
        "            ax.text(j, i, format(cm[i, j], \"d\"),\n",
        "                    ha=\"center\", va=\"center\",\n",
        "                    color=\"white\" if cm[i, j] > cm.max()/2. else \"black\")\n",
        "    fig.tight_layout()\n",
        "    return plt"
      ],
      "execution_count": 0,
      "outputs": []
    },
    {
      "cell_type": "markdown",
      "metadata": {
        "id": "zf_bBpGep9vk",
        "colab_type": "text"
      },
      "source": [
        "## Classificador"
      ]
    },
    {
      "cell_type": "code",
      "metadata": {
        "id": "CB4sX8Xcp9Ck",
        "colab_type": "code",
        "colab": {}
      },
      "source": [
        "def cnn(input_dim):\n",
        "    # Cria o modelo do Keras usando a API funcional\n",
        "    model_input = layers.Input(shape= (input_dim,), name=\"Input\")\n",
        "    \n",
        "    x = layers.Reshape((input_dim, 1))(model_input)\n",
        "    # Parte de extração de features: convolução e pooling\n",
        "    x = layers.Conv1D(32, 2,activation=\"relu\", padding=\"same\", name=\"Conv1\")(x)\n",
        "    x = layers.Conv1D(32, kernel_size=(2, ), activation=\"relu\", padding=\"same\", name=\"Conv2\")(x)\n",
        "    x = layers.MaxPooling1D(2,padding='same', name=\"Pool1\")(x)\n",
        "    x = layers.Dropout(0.25, name=\"Dropout1\")(x)\n",
        "    \n",
        "    x = layers.Conv1D(64, 3, activation=\"relu\",padding=\"same\", name=\"Conv3\")(x)\n",
        "    x = layers.Conv1D(64, kernel_size=(3, ), activation=\"relu\", padding=\"same\", name=\"Conv4\")(x)\n",
        "    x = layers.MaxPooling1D(2,padding='same', name=\"Pool2\")(x)\n",
        "    x = layers.Dropout(0.25, name=\"Dropout2\")(x)\n",
        "    \n",
        "    # Camada que \"achata\" para depois usar em camadas fully connected\n",
        "    x = layers.Flatten(name=\"Flatten\")(x)\n",
        "    \n",
        "    # Camada fully connected \n",
        "    x = layers.Dense(128, activation=\"relu\", name=\"Dense1\")(x)\n",
        "    x = layers.Dense(64, activation=\"relu\", name=\"Dense2\")(x)\n",
        "\n",
        "    # Ultima camada com ativacao softmax, que tem um neurônio como saida\n",
        "    model_output = layers.Dense(1, activation='sigmoid', name=\"Output\")(x)\n",
        "    model = models.Model(model_input, model_output)\n",
        "    model.compile(optimizer='adam', loss='binary_crossentropy', metrics=['accuracy'])\n",
        "    return model, model_input\n"
      ],
      "execution_count": 0,
      "outputs": []
    },
    {
      "cell_type": "code",
      "metadata": {
        "id": "75eRGyG0qMQq",
        "colab_type": "code",
        "outputId": "b173e628-789b-48eb-d666-4c9054d5074d",
        "colab": {
          "base_uri": "https://localhost:8080/",
          "height": 1000
        }
      },
      "source": [
        "model, model_input = cnn(x_train_int.shape[1])\n",
        "model.summary()\n",
        "\n",
        "optimizer = optimizers.Adam(lr=0.01)\n",
        "early_stopping = [EarlyStopping(monitor='val_loss', patience=5, restore_best_weights=True)]\n",
        "\n",
        "#utiliza peso 4 para a classe 1 devido ao desbalanceamento do dataset\n",
        "#tanto configuração quanto a estrutura da rede foram definidos de modo empírico\n",
        "#a estrutura final da rede clasifica o problema de forma binária\n",
        "history = model.fit(x_train_int, y_train, batch_size=32, verbose = 2, epochs=30, class_weight= {0: 1., 1: 4.}, validation_split=0.2, shuffle=True)"
      ],
      "execution_count": 0,
      "outputs": [
        {
          "output_type": "stream",
          "text": [
            "_________________________________________________________________\n",
            "Layer (type)                 Output Shape              Param #   \n",
            "=================================================================\n",
            "Input (InputLayer)           (None, 2307)              0         \n",
            "_________________________________________________________________\n",
            "reshape_1 (Reshape)          (None, 2307, 1)           0         \n",
            "_________________________________________________________________\n",
            "Conv1 (Conv1D)               (None, 2307, 32)          96        \n",
            "_________________________________________________________________\n",
            "Conv2 (Conv1D)               (None, 2307, 32)          2080      \n",
            "_________________________________________________________________\n",
            "Pool1 (MaxPooling1D)         (None, 1154, 32)          0         \n",
            "_________________________________________________________________\n",
            "Dropout1 (Dropout)           (None, 1154, 32)          0         \n",
            "_________________________________________________________________\n",
            "Conv3 (Conv1D)               (None, 1154, 64)          6208      \n",
            "_________________________________________________________________\n",
            "Conv4 (Conv1D)               (None, 1154, 64)          12352     \n",
            "_________________________________________________________________\n",
            "Pool2 (MaxPooling1D)         (None, 577, 64)           0         \n",
            "_________________________________________________________________\n",
            "Dropout2 (Dropout)           (None, 577, 64)           0         \n",
            "_________________________________________________________________\n",
            "Flatten (Flatten)            (None, 36928)             0         \n",
            "_________________________________________________________________\n",
            "Dense1 (Dense)               (None, 128)               4726912   \n",
            "_________________________________________________________________\n",
            "Dense2 (Dense)               (None, 64)                8256      \n",
            "_________________________________________________________________\n",
            "Output (Dense)               (None, 1)                 65        \n",
            "=================================================================\n",
            "Total params: 4,755,969\n",
            "Trainable params: 4,755,969\n",
            "Non-trainable params: 0\n",
            "_________________________________________________________________\n",
            "Train on 215276 samples, validate on 53820 samples\n",
            "Epoch 1/30\n",
            " - 102s - loss: 0.7587 - acc: 0.7884 - val_loss: 0.5736 - val_acc: 0.8792\n",
            "Epoch 2/30\n",
            " - 97s - loss: 0.5801 - acc: 0.8486 - val_loss: 0.4710 - val_acc: 0.8747\n",
            "Epoch 3/30\n",
            " - 97s - loss: 0.5157 - acc: 0.8659 - val_loss: 0.4379 - val_acc: 0.9084\n",
            "Epoch 4/30\n",
            " - 97s - loss: 0.4773 - acc: 0.8780 - val_loss: 0.4084 - val_acc: 0.9146\n",
            "Epoch 5/30\n",
            " - 97s - loss: 0.4550 - acc: 0.8840 - val_loss: 0.3951 - val_acc: 0.9128\n",
            "Epoch 6/30\n",
            " - 97s - loss: 0.4376 - acc: 0.8906 - val_loss: 0.3871 - val_acc: 0.8870\n",
            "Epoch 7/30\n",
            " - 97s - loss: 0.4207 - acc: 0.8941 - val_loss: 0.3787 - val_acc: 0.9278\n",
            "Epoch 8/30\n",
            " - 97s - loss: 0.4108 - acc: 0.8952 - val_loss: 0.3815 - val_acc: 0.9318\n",
            "Epoch 9/30\n",
            " - 96s - loss: 0.4003 - acc: 0.9002 - val_loss: 0.3475 - val_acc: 0.9228\n",
            "Epoch 10/30\n",
            " - 96s - loss: 0.3915 - acc: 0.9016 - val_loss: 0.3513 - val_acc: 0.9266\n",
            "Epoch 11/30\n",
            " - 97s - loss: 0.3843 - acc: 0.9042 - val_loss: 0.3269 - val_acc: 0.9233\n",
            "Epoch 12/30\n",
            " - 97s - loss: 0.3767 - acc: 0.9050 - val_loss: 0.3317 - val_acc: 0.9263\n",
            "Epoch 13/30\n",
            " - 97s - loss: 0.3735 - acc: 0.9069 - val_loss: 0.3231 - val_acc: 0.9272\n",
            "Epoch 14/30\n",
            " - 97s - loss: 0.3705 - acc: 0.9087 - val_loss: 0.3272 - val_acc: 0.9321\n",
            "Epoch 15/30\n",
            " - 97s - loss: 0.3641 - acc: 0.9096 - val_loss: 0.3255 - val_acc: 0.9198\n",
            "Epoch 16/30\n",
            " - 97s - loss: 0.3617 - acc: 0.9102 - val_loss: 0.3332 - val_acc: 0.9332\n",
            "Epoch 17/30\n",
            " - 97s - loss: 0.3575 - acc: 0.9108 - val_loss: 0.3093 - val_acc: 0.9291\n",
            "Epoch 18/30\n",
            " - 97s - loss: 0.3536 - acc: 0.9127 - val_loss: 0.3159 - val_acc: 0.9347\n",
            "Epoch 19/30\n",
            " - 97s - loss: 0.3514 - acc: 0.9125 - val_loss: 0.3124 - val_acc: 0.9266\n",
            "Epoch 20/30\n",
            " - 97s - loss: 0.3487 - acc: 0.9150 - val_loss: 0.3042 - val_acc: 0.9370\n",
            "Epoch 21/30\n",
            " - 97s - loss: 0.3445 - acc: 0.9148 - val_loss: 0.3108 - val_acc: 0.9366\n",
            "Epoch 22/30\n",
            " - 97s - loss: 0.3404 - acc: 0.9161 - val_loss: 0.3031 - val_acc: 0.9268\n",
            "Epoch 23/30\n",
            " - 97s - loss: 0.3445 - acc: 0.9160 - val_loss: 0.3047 - val_acc: 0.9391\n",
            "Epoch 24/30\n",
            " - 97s - loss: 0.3397 - acc: 0.9173 - val_loss: 0.3049 - val_acc: 0.9343\n",
            "Epoch 25/30\n",
            " - 97s - loss: 0.3394 - acc: 0.9183 - val_loss: 0.3025 - val_acc: 0.9420\n",
            "Epoch 26/30\n",
            " - 97s - loss: 0.3378 - acc: 0.9172 - val_loss: 0.2986 - val_acc: 0.9389\n",
            "Epoch 27/30\n",
            " - 97s - loss: 0.3364 - acc: 0.9184 - val_loss: 0.2978 - val_acc: 0.9358\n",
            "Epoch 28/30\n",
            " - 97s - loss: 0.3369 - acc: 0.9183 - val_loss: 0.2953 - val_acc: 0.9367\n",
            "Epoch 29/30\n",
            " - 96s - loss: 0.3361 - acc: 0.9187 - val_loss: 0.2859 - val_acc: 0.9388\n",
            "Epoch 30/30\n",
            " - 97s - loss: 0.3365 - acc: 0.9182 - val_loss: 0.2960 - val_acc: 0.9390\n"
          ],
          "name": "stdout"
        }
      ]
    },
    {
      "cell_type": "code",
      "metadata": {
        "id": "YndZcgd5jXxA",
        "colab_type": "code",
        "outputId": "a4f9e8a2-4523-4546-d89b-992290a9008c",
        "colab": {
          "base_uri": "https://localhost:8080/",
          "height": 454
        }
      },
      "source": [
        "gerar_graficos_treino(history).show()"
      ],
      "execution_count": 0,
      "outputs": [
        {
          "output_type": "display_data",
          "data": {
            "image/png": "[encoded data removed]",
            "text/plain": [
              "<Figure size 1224x504 with 2 Axes>"
            ]
          },
          "metadata": {
            "tags": []
          }
        }
      ]
    },
    {
      "cell_type": "markdown",
      "metadata": {
        "id": "H2o1BpVDv_bn",
        "colab_type": "text"
      },
      "source": [
        "## Validação"
      ]
    },
    {
      "cell_type": "code",
      "metadata": {
        "id": "1UiqrXOawBvz",
        "colab_type": "code",
        "colab": {}
      },
      "source": [
        "y_proba = model.predict(x_val_int)\n",
        "y_pred = np.round(y_proba)\n",
        "y_true = y_val"
      ],
      "execution_count": 0,
      "outputs": []
    },
    {
      "cell_type": "code",
      "metadata": {
        "id": "AcMSnH8qwIQc",
        "colab_type": "code",
        "outputId": "03f4d702-a8be-4ab5-9b08-b2b05b7280eb",
        "colab": {
          "base_uri": "https://localhost:8080/",
          "height": 501
        }
      },
      "source": [
        "gerar_matriz_confusao(y_pred, y_val).show()"
      ],
      "execution_count": 0,
      "outputs": [
        {
          "output_type": "display_data",
          "data": {
            "image/png": "[encoded data removed]",
            "text/plain": [
              "<Figure size 504x504 with 2 Axes>"
            ]
          },
          "metadata": {
            "tags": []
          }
        }
      ]
    },
    {
      "cell_type": "code",
      "metadata": {
        "id": "iE776C1MwSzv",
        "colab_type": "code",
        "outputId": "9dde4f05-c128-4cf5-b061-0eb572ac42c6",
        "colab": {
          "base_uri": "https://localhost:8080/",
          "height": 204
        }
      },
      "source": [
        "print('\\nClassification Report:\\n',classification_report(y_val, y_pred))"
      ],
      "execution_count": 0,
      "outputs": [
        {
          "output_type": "stream",
          "text": [
            "\n",
            "Classification Report:\n",
            "               precision    recall  f1-score   support\n",
            "\n",
            "           0       0.98      0.95      0.96     55035\n",
            "           1       0.80      0.90      0.84     12240\n",
            "\n",
            "    accuracy                           0.94     67275\n",
            "   macro avg       0.89      0.92      0.90     67275\n",
            "weighted avg       0.94      0.94      0.94     67275\n",
            "\n"
          ],
          "name": "stdout"
        }
      ]
    },
    {
      "cell_type": "markdown",
      "metadata": {
        "id": "G1Ui5_mLhHgx",
        "colab_type": "text"
      },
      "source": [
        "##Teste"
      ]
    },
    {
      "cell_type": "code",
      "metadata": {
        "id": "YH23fWPGieDj",
        "colab_type": "code",
        "colab": {}
      },
      "source": [
        "y_proba = model.predict(x_test_int)\n",
        "y_pred = np.round(y_proba)\n",
        "y_true = y_test"
      ],
      "execution_count": 0,
      "outputs": []
    },
    {
      "cell_type": "code",
      "metadata": {
        "colab_type": "code",
        "id": "72skzLF0jJZl",
        "outputId": "0678d234-b5a2-4483-d89c-eb44a529f042",
        "colab": {
          "base_uri": "https://localhost:8080/",
          "height": 501
        }
      },
      "source": [
        "gerar_matriz_confusao(y_pred, y_true).show()"
      ],
      "execution_count": 0,
      "outputs": [
        {
          "output_type": "display_data",
          "data": {
            "image/png": "[encoded data removed]",
            "text/plain": [
              "<Figure size 504x504 with 2 Axes>"
            ]
          },
          "metadata": {
            "tags": []
          }
        }
      ]
    },
    {
      "cell_type": "code",
      "metadata": {
        "colab_type": "code",
        "id": "iKnPMLOcjJZu",
        "outputId": "d8ca2b8b-b35a-4214-e57f-05ac08fda669",
        "colab": {
          "base_uri": "https://localhost:8080/",
          "height": 204
        }
      },
      "source": [
        "print('\\nClassification Report:\\n',classification_report(y_true, y_pred))"
      ],
      "execution_count": 0,
      "outputs": [
        {
          "output_type": "stream",
          "text": [
            "\n",
            "Classification Report:\n",
            "               precision    recall  f1-score   support\n",
            "\n",
            "           0       0.98      0.95      0.96     68919\n",
            "           1       0.80      0.90      0.85     15174\n",
            "\n",
            "    accuracy                           0.94     84093\n",
            "   macro avg       0.89      0.92      0.90     84093\n",
            "weighted avg       0.94      0.94      0.94     84093\n",
            "\n"
          ],
          "name": "stdout"
        }
      ]
    }
  ]
}